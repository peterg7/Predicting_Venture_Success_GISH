{
 "cells": [
  {
   "cell_type": "markdown",
   "metadata": {},
   "source": [
    "## Part 1: Linear Data"
   ]
  },
  {
   "cell_type": "code",
   "execution_count": 4,
   "metadata": {},
   "outputs": [],
   "source": [
    "# import dependencies\n",
    "import pandas as pd\n",
    "import matplotlib as plt\n",
    "from sklearn.datasets import make_blobs\n",
    "from sklearn.model_selection import train_test_split\n",
    "import sklearn as skl\n",
    "import tensorflow as tf"
   ]
  },
  {
   "cell_type": "code",
   "execution_count": 2,
   "metadata": {},
   "outputs": [],
   "source": [
    "# generate dummy dataset\n",
    "X, y = make_blobs(n_samples=1000, centers=2, n_features=2, random_state=78)\n",
    "\n",
    "# create a DataFrame with dummy data\n",
    "df = pd.DataFrame(X, columns=[\"Feature 1\", \"Feature 2\"])\n",
    "df[\"Target\"] = y"
   ]
  },
  {
   "cell_type": "code",
   "execution_count": 3,
   "metadata": {},
   "outputs": [
    {
     "data": {
      "text/plain": [
       "<matplotlib.axes._subplots.AxesSubplot at 0x1a438e0510>"
      ]
     },
     "execution_count": 3,
     "metadata": {},
     "output_type": "execute_result"
    },
    {
     "data": {
      "image/png": "[encoded data removed]",
      "text/plain": [
       "<Figure size 432x288 with 2 Axes>"
      ]
     },
     "metadata": {
      "needs_background": "light"
     },
     "output_type": "display_data"
    }
   ],
   "source": [
    "# plot dummy data\n",
    "df.plot.scatter(x=\"Feature 1\", y=\"Feature 2\", c=\"Target\", colormap=\"winter\")"
   ]
  },
  {
   "cell_type": "code",
   "execution_count": 6,
   "metadata": {},
   "outputs": [],
   "source": [
    "# split dataset into train/test\n",
    "X_train, X_test, y_train, y_test = train_test_split(X, y, random_state=78)"
   ]
  },
  {
   "cell_type": "code",
   "execution_count": 7,
   "metadata": {},
   "outputs": [
    {
     "data": {
      "text/plain": [
       "StandardScaler(copy=True, with_mean=True, with_std=True)"
      ]
     },
     "execution_count": 7,
     "metadata": {},
     "output_type": "execute_result"
    }
   ],
   "source": [
    "# create scaler instance\n",
    "X_scaler = skl.preprocessing.StandardScaler()\n",
    "\n",
    "# fit the scaler\n",
    "X_scaler.fit(X_train)"
   ]
  },
  {
   "cell_type": "code",
   "execution_count": 8,
   "metadata": {},
   "outputs": [],
   "source": [
    "# scale the data\n",
    "X_train_scaled = X_scaler.transform(X_train)\n",
    "X_test_scaled = X_scaler.transform(X_test)"
   ]
  },
  {
   "cell_type": "code",
   "execution_count": 9,
   "metadata": {},
   "outputs": [],
   "source": [
    "# create a Keras Sequential model\n",
    "nn_model = tf.keras.models.Sequential()"
   ]
  },
  {
   "cell_type": "code",
   "execution_count": 10,
   "metadata": {},
   "outputs": [],
   "source": [
    "# add first dense layer (including input layer)\n",
    "nn_model.add(tf.keras.layers.Dense(units=1, activation='relu', input_dim=2))"
   ]
  },
  {
   "cell_type": "code",
   "execution_count": 11,
   "metadata": {},
   "outputs": [],
   "source": [
    "# add output layer that uses a probability activation function\n",
    "nn_model.add(tf.keras.layers.Dense(units=1, activation='sigmoid'))"
   ]
  },
  {
   "cell_type": "code",
   "execution_count": 12,
   "metadata": {},
   "outputs": [
    {
     "name": "stdout",
     "output_type": "stream",
     "text": [
      "Model: \"sequential\"\n",
      "_________________________________________________________________\n",
      "Layer (type)                 Output Shape              Param #   \n",
      "=================================================================\n",
      "dense (Dense)                (None, 1)                 3         \n",
      "_________________________________________________________________\n",
      "dense_1 (Dense)              (None, 1)                 2         \n",
      "=================================================================\n",
      "Total params: 5\n",
      "Trainable params: 5\n",
      "Non-trainable params: 0\n",
      "_________________________________________________________________\n"
     ]
    }
   ],
   "source": [
    "# view structure of Sequential model\n",
    "nn_model.summary()"
   ]
  },
  {
   "cell_type": "code",
   "execution_count": 13,
   "metadata": {},
   "outputs": [],
   "source": [
    "# compile the model and customize metrics\n",
    "nn_model.compile(loss='binary_crossentropy', optimizer='adam', metrics=['accuracy'])"
   ]
  },
  {
   "cell_type": "code",
   "execution_count": 14,
   "metadata": {},
   "outputs": [
    {
     "name": "stdout",
     "output_type": "stream",
     "text": [
      "Train on 750 samples\n",
      "Epoch 1/100\n",
      "750/750 [==============================] - 1s 1ms/sample - loss: 0.7848 - accuracy: 0.4933\n",
      "Epoch 2/100\n",
      "750/750 [==============================] - 0s 53us/sample - loss: 0.7650 - accuracy: 0.5093\n",
      "Epoch 3/100\n",
      "750/750 [==============================] - 0s 59us/sample - loss: 0.7474 - accuracy: 0.5320\n",
      "Epoch 4/100\n",
      "750/750 [==============================] - 0s 59us/sample - loss: 0.7321 - accuracy: 0.5493\n",
      "Epoch 5/100\n",
      "750/750 [==============================] - 0s 55us/sample - loss: 0.7184 - accuracy: 0.5613\n",
      "Epoch 6/100\n",
      "750/750 [==============================] - 0s 54us/sample - loss: 0.7058 - accuracy: 0.5773\n",
      "Epoch 7/100\n",
      "750/750 [==============================] - 0s 55us/sample - loss: 0.6941 - accuracy: 0.5933\n",
      "Epoch 8/100\n",
      "750/750 [==============================] - 0s 62us/sample - loss: 0.6836 - accuracy: 0.6053\n",
      "Epoch 9/100\n",
      "750/750 [==============================] - 0s 57us/sample - loss: 0.6733 - accuracy: 0.6200\n",
      "Epoch 10/100\n",
      "750/750 [==============================] - 0s 56us/sample - loss: 0.6640 - accuracy: 0.6320\n",
      "Epoch 11/100\n",
      "750/750 [==============================] - 0s 55us/sample - loss: 0.6550 - accuracy: 0.6400\n",
      "Epoch 12/100\n",
      "750/750 [==============================] - 0s 56us/sample - loss: 0.6459 - accuracy: 0.6493\n",
      "Epoch 13/100\n",
      "750/750 [==============================] - 0s 57us/sample - loss: 0.6371 - accuracy: 0.6653\n",
      "Epoch 14/100\n",
      "750/750 [==============================] - 0s 57us/sample - loss: 0.6285 - accuracy: 0.6787\n",
      "Epoch 15/100\n",
      "750/750 [==============================] - 0s 56us/sample - loss: 0.6198 - accuracy: 0.6933\n",
      "Epoch 16/100\n",
      "750/750 [==============================] - 0s 57us/sample - loss: 0.6112 - accuracy: 0.7053\n",
      "Epoch 17/100\n",
      "750/750 [==============================] - 0s 58us/sample - loss: 0.6027 - accuracy: 0.7147\n",
      "Epoch 18/100\n",
      "750/750 [==============================] - 0s 56us/sample - loss: 0.5941 - accuracy: 0.7240\n",
      "Epoch 19/100\n",
      "750/750 [==============================] - 0s 57us/sample - loss: 0.5856 - accuracy: 0.7360\n",
      "Epoch 20/100\n",
      "750/750 [==============================] - 0s 55us/sample - loss: 0.5770 - accuracy: 0.7440\n",
      "Epoch 21/100\n",
      "750/750 [==============================] - 0s 57us/sample - loss: 0.5685 - accuracy: 0.7520\n",
      "Epoch 22/100\n",
      "750/750 [==============================] - 0s 59us/sample - loss: 0.5598 - accuracy: 0.7600\n",
      "Epoch 23/100\n",
      "750/750 [==============================] - 0s 59us/sample - loss: 0.5512 - accuracy: 0.7680\n",
      "Epoch 24/100\n",
      "750/750 [==============================] - 0s 59us/sample - loss: 0.5425 - accuracy: 0.7760\n",
      "Epoch 25/100\n",
      "750/750 [==============================] - 0s 52us/sample - loss: 0.5339 - accuracy: 0.7867\n",
      "Epoch 26/100\n",
      "750/750 [==============================] - 0s 56us/sample - loss: 0.5253 - accuracy: 0.7960\n",
      "Epoch 27/100\n",
      "750/750 [==============================] - 0s 60us/sample - loss: 0.5166 - accuracy: 0.8013\n",
      "Epoch 28/100\n",
      "750/750 [==============================] - 0s 66us/sample - loss: 0.5078 - accuracy: 0.8053\n",
      "Epoch 29/100\n",
      "750/750 [==============================] - 0s 56us/sample - loss: 0.4992 - accuracy: 0.8120\n",
      "Epoch 30/100\n",
      "750/750 [==============================] - 0s 61us/sample - loss: 0.4904 - accuracy: 0.8200\n",
      "Epoch 31/100\n",
      "750/750 [==============================] - 0s 62us/sample - loss: 0.4814 - accuracy: 0.8293\n",
      "Epoch 32/100\n",
      "750/750 [==============================] - 0s 56us/sample - loss: 0.4727 - accuracy: 0.8347\n",
      "Epoch 33/100\n",
      "750/750 [==============================] - 0s 68us/sample - loss: 0.4637 - accuracy: 0.8413\n",
      "Epoch 34/100\n",
      "750/750 [==============================] - 0s 88us/sample - loss: 0.4549 - accuracy: 0.8480\n",
      "Epoch 35/100\n",
      "750/750 [==============================] - 0s 88us/sample - loss: 0.4463 - accuracy: 0.8520\n",
      "Epoch 36/100\n",
      "750/750 [==============================] - 0s 87us/sample - loss: 0.4379 - accuracy: 0.8547\n",
      "Epoch 37/100\n",
      "750/750 [==============================] - 0s 84us/sample - loss: 0.4295 - accuracy: 0.8573\n",
      "Epoch 38/100\n",
      "750/750 [==============================] - 0s 60us/sample - loss: 0.4213 - accuracy: 0.8640\n",
      "Epoch 39/100\n",
      "750/750 [==============================] - 0s 55us/sample - loss: 0.4133 - accuracy: 0.8707\n",
      "Epoch 40/100\n",
      "750/750 [==============================] - 0s 54us/sample - loss: 0.4052 - accuracy: 0.8747\n",
      "Epoch 41/100\n",
      "750/750 [==============================] - 0s 57us/sample - loss: 0.3972 - accuracy: 0.8800\n",
      "Epoch 42/100\n",
      "750/750 [==============================] - 0s 67us/sample - loss: 0.3891 - accuracy: 0.8907\n",
      "Epoch 43/100\n",
      "750/750 [==============================] - 0s 90us/sample - loss: 0.3809 - accuracy: 0.8907\n",
      "Epoch 44/100\n",
      "750/750 [==============================] - 0s 87us/sample - loss: 0.3731 - accuracy: 0.8960\n",
      "Epoch 45/100\n",
      "750/750 [==============================] - 0s 84us/sample - loss: 0.3657 - accuracy: 0.8987\n",
      "Epoch 46/100\n",
      "750/750 [==============================] - 0s 87us/sample - loss: 0.3582 - accuracy: 0.9013\n",
      "Epoch 47/100\n",
      "750/750 [==============================] - 0s 76us/sample - loss: 0.3507 - accuracy: 0.9040\n",
      "Epoch 48/100\n",
      "750/750 [==============================] - 0s 64us/sample - loss: 0.3435 - accuracy: 0.9040\n",
      "Epoch 49/100\n",
      "750/750 [==============================] - 0s 58us/sample - loss: 0.3361 - accuracy: 0.9080\n",
      "Epoch 50/100\n",
      "750/750 [==============================] - 0s 60us/sample - loss: 0.3290 - accuracy: 0.9120\n",
      "Epoch 51/100\n",
      "750/750 [==============================] - 0s 57us/sample - loss: 0.3222 - accuracy: 0.9173\n",
      "Epoch 52/100\n",
      "750/750 [==============================] - 0s 54us/sample - loss: 0.3154 - accuracy: 0.9213\n",
      "Epoch 53/100\n",
      "750/750 [==============================] - 0s 57us/sample - loss: 0.3089 - accuracy: 0.9267\n",
      "Epoch 54/100\n",
      "750/750 [==============================] - 0s 63us/sample - loss: 0.3025 - accuracy: 0.9280\n",
      "Epoch 55/100\n",
      "750/750 [==============================] - 0s 61us/sample - loss: 0.2962 - accuracy: 0.9293\n",
      "Epoch 56/100\n",
      "750/750 [==============================] - 0s 56us/sample - loss: 0.2899 - accuracy: 0.9333\n",
      "Epoch 57/100\n",
      "750/750 [==============================] - 0s 57us/sample - loss: 0.2837 - accuracy: 0.9387\n",
      "Epoch 58/100\n",
      "750/750 [==============================] - 0s 55us/sample - loss: 0.2777 - accuracy: 0.9413\n",
      "Epoch 59/100\n",
      "750/750 [==============================] - 0s 55us/sample - loss: 0.2716 - accuracy: 0.9440\n",
      "Epoch 60/100\n",
      "750/750 [==============================] - 0s 62us/sample - loss: 0.2656 - accuracy: 0.9440\n",
      "Epoch 61/100\n",
      "750/750 [==============================] - 0s 53us/sample - loss: 0.2598 - accuracy: 0.9467\n",
      "Epoch 62/100\n",
      "750/750 [==============================] - 0s 57us/sample - loss: 0.2540 - accuracy: 0.9493\n",
      "Epoch 63/100\n",
      "750/750 [==============================] - 0s 59us/sample - loss: 0.2484 - accuracy: 0.9493\n",
      "Epoch 64/100\n",
      "750/750 [==============================] - 0s 58us/sample - loss: 0.2427 - accuracy: 0.9507\n",
      "Epoch 65/100\n",
      "750/750 [==============================] - 0s 58us/sample - loss: 0.2374 - accuracy: 0.9520\n",
      "Epoch 66/100\n",
      "750/750 [==============================] - 0s 54us/sample - loss: 0.2320 - accuracy: 0.9533\n",
      "Epoch 67/100\n",
      "750/750 [==============================] - 0s 54us/sample - loss: 0.2268 - accuracy: 0.9560\n",
      "Epoch 68/100\n",
      "750/750 [==============================] - 0s 54us/sample - loss: 0.2217 - accuracy: 0.9560\n",
      "Epoch 69/100\n",
      "750/750 [==============================] - 0s 57us/sample - loss: 0.2166 - accuracy: 0.9573\n",
      "Epoch 70/100\n",
      "750/750 [==============================] - 0s 59us/sample - loss: 0.2114 - accuracy: 0.9573\n",
      "Epoch 71/100\n",
      "750/750 [==============================] - 0s 54us/sample - loss: 0.2064 - accuracy: 0.9600\n",
      "Epoch 72/100\n",
      "750/750 [==============================] - 0s 61us/sample - loss: 0.2015 - accuracy: 0.9600\n",
      "Epoch 73/100\n",
      "750/750 [==============================] - 0s 60us/sample - loss: 0.1966 - accuracy: 0.9613\n",
      "Epoch 74/100\n",
      "750/750 [==============================] - 0s 56us/sample - loss: 0.1919 - accuracy: 0.9640\n",
      "Epoch 75/100\n",
      "750/750 [==============================] - 0s 57us/sample - loss: 0.1874 - accuracy: 0.9680\n",
      "Epoch 76/100\n",
      "750/750 [==============================] - 0s 56us/sample - loss: 0.1829 - accuracy: 0.9707\n",
      "Epoch 77/100\n",
      "750/750 [==============================] - 0s 61us/sample - loss: 0.1786 - accuracy: 0.9707\n",
      "Epoch 78/100\n"
     ]
    },
    {
     "name": "stdout",
     "output_type": "stream",
     "text": [
      "750/750 [==============================] - 0s 70us/sample - loss: 0.1744 - accuracy: 0.9733\n",
      "Epoch 79/100\n",
      "750/750 [==============================] - 0s 63us/sample - loss: 0.1703 - accuracy: 0.9733\n",
      "Epoch 80/100\n",
      "750/750 [==============================] - 0s 54us/sample - loss: 0.1663 - accuracy: 0.9760\n",
      "Epoch 81/100\n",
      "750/750 [==============================] - 0s 56us/sample - loss: 0.1624 - accuracy: 0.9760\n",
      "Epoch 82/100\n",
      "750/750 [==============================] - 0s 55us/sample - loss: 0.1585 - accuracy: 0.9787\n",
      "Epoch 83/100\n",
      "750/750 [==============================] - 0s 53us/sample - loss: 0.1547 - accuracy: 0.9800\n",
      "Epoch 84/100\n",
      "750/750 [==============================] - 0s 54us/sample - loss: 0.1510 - accuracy: 0.9827\n",
      "Epoch 85/100\n",
      "750/750 [==============================] - 0s 58us/sample - loss: 0.1475 - accuracy: 0.9840\n",
      "Epoch 86/100\n",
      "750/750 [==============================] - 0s 75us/sample - loss: 0.1440 - accuracy: 0.9840\n",
      "Epoch 87/100\n",
      "750/750 [==============================] - 0s 77us/sample - loss: 0.1406 - accuracy: 0.9840\n",
      "Epoch 88/100\n",
      "750/750 [==============================] - 0s 67us/sample - loss: 0.1374 - accuracy: 0.9853\n",
      "Epoch 89/100\n",
      "750/750 [==============================] - 0s 57us/sample - loss: 0.1342 - accuracy: 0.9853\n",
      "Epoch 90/100\n",
      "750/750 [==============================] - ETA: 0s - loss: 0.1647 - accuracy: 0.93 - 0s 58us/sample - loss: 0.1311 - accuracy: 0.9880\n",
      "Epoch 91/100\n",
      "750/750 [==============================] - 0s 54us/sample - loss: 0.1281 - accuracy: 0.9893\n",
      "Epoch 92/100\n",
      "750/750 [==============================] - 0s 50us/sample - loss: 0.1252 - accuracy: 0.9893\n",
      "Epoch 93/100\n",
      "750/750 [==============================] - 0s 54us/sample - loss: 0.1224 - accuracy: 0.9907\n",
      "Epoch 94/100\n",
      "750/750 [==============================] - 0s 54us/sample - loss: 0.1197 - accuracy: 0.9907\n",
      "Epoch 95/100\n",
      "750/750 [==============================] - 0s 54us/sample - loss: 0.1171 - accuracy: 0.9907\n",
      "Epoch 96/100\n",
      "750/750 [==============================] - 0s 52us/sample - loss: 0.1145 - accuracy: 0.9947\n",
      "Epoch 97/100\n",
      "750/750 [==============================] - 0s 56us/sample - loss: 0.1121 - accuracy: 0.9947\n",
      "Epoch 98/100\n",
      "750/750 [==============================] - 0s 54us/sample - loss: 0.1097 - accuracy: 0.9947\n",
      "Epoch 99/100\n",
      "750/750 [==============================] - 0s 54us/sample - loss: 0.1073 - accuracy: 0.9947\n",
      "Epoch 100/100\n",
      "750/750 [==============================] - 0s 57us/sample - loss: 0.1050 - accuracy: 0.9947\n"
     ]
    }
   ],
   "source": [
    "# fit the model to training data\n",
    "fit_model = nn_model.fit(X_train_scaled, y_train, epochs=100)"
   ]
  },
  {
   "cell_type": "code",
   "execution_count": 15,
   "metadata": {},
   "outputs": [],
   "source": [
    "# create DataFrame containing training history\n",
    "history_df = pd.DataFrame(fit_model.history, index=range(1,len(fit_model.history['loss'])+1))"
   ]
  },
  {
   "cell_type": "code",
   "execution_count": 16,
   "metadata": {},
   "outputs": [
    {
     "data": {
      "text/plain": [
       "<matplotlib.axes._subplots.AxesSubplot at 0x1a44c6ecd0>"
      ]
     },
     "execution_count": 16,
     "metadata": {},
     "output_type": "execute_result"
    },
    {
     "data": {
      "image/png": "[encoded data removed]",
      "text/plain": [
       "<Figure size 432x288 with 1 Axes>"
      ]
     },
     "metadata": {
      "needs_background": "light"
     },
     "output_type": "display_data"
    }
   ],
   "source": [
    "# plot the loss history\n",
    "history_df.plot(y='loss')"
   ]
  },
  {
   "cell_type": "code",
   "execution_count": 17,
   "metadata": {},
   "outputs": [
    {
     "data": {
      "text/plain": [
       "<matplotlib.axes._subplots.AxesSubplot at 0x1a45719b10>"
      ]
     },
     "execution_count": 17,
     "metadata": {},
     "output_type": "execute_result"
    },
    {
     "data": {
      "image/png": "[encoded data removed]",
      "text/plain": [
       "<Figure size 432x288 with 1 Axes>"
      ]
     },
     "metadata": {
      "needs_background": "light"
     },
     "output_type": "display_data"
    }
   ],
   "source": [
    "# plot accuracy history\n",
    "history_df.plot(y='accuracy')"
   ]
  },
  {
   "cell_type": "code",
   "execution_count": 18,
   "metadata": {},
   "outputs": [
    {
     "name": "stdout",
     "output_type": "stream",
     "text": [
      "250/1 - 0s - loss: 0.0834 - accuracy: 0.9960\n",
      "Loss: 0.10182771563529969, Accuracy: 0.9959999918937683\n"
     ]
    }
   ],
   "source": [
    "# evaluate the model using testing data\n",
    "model_loss, model_accuracy = nn_model.evaluate(X_test_scaled, y_test, verbose=2)\n",
    "print(f'Loss: {model_loss}, Accuracy: {model_accuracy}')"
   ]
  },
  {
   "cell_type": "code",
   "execution_count": 19,
   "metadata": {},
   "outputs": [
    {
     "data": {
      "text/plain": [
       "array([[0],\n",
       "       [1],\n",
       "       [0],\n",
       "       [1],\n",
       "       [0],\n",
       "       [0],\n",
       "       [1],\n",
       "       [1],\n",
       "       [1],\n",
       "       [0]], dtype=int32)"
      ]
     },
     "execution_count": 19,
     "metadata": {},
     "output_type": "execute_result"
    }
   ],
   "source": [
    "# predict classification of new dummy data\n",
    "new_X, new_Y = make_blobs(n_samples=10, centers=2, n_features=2, random_state=78)\n",
    "\n",
    "nn_model.predict_classes(new_X)"
   ]
  },
  {
   "cell_type": "markdown",
   "metadata": {},
   "source": [
    "## Part 2: Non-Linear Data"
   ]
  },
  {
   "cell_type": "code",
   "execution_count": 20,
   "metadata": {},
   "outputs": [],
   "source": [
    "# import dependency\n",
    "from sklearn.datasets import make_moons"
   ]
  },
  {
   "cell_type": "code",
   "execution_count": 21,
   "metadata": {},
   "outputs": [],
   "source": [
    "# create dummy nonlinear data\n",
    "X_moons, y_moons = make_moons(n_samples=1000, noise=0.08, random_state=78)\n",
    "\n",
    "# transform y_moons to a vertical vector\n",
    "y_moons = y_moons.reshape(-1, 1)\n",
    "\n",
    "# create DataFrame to plot nonlinear data\n",
    "df_moons = pd.DataFrame(X_moons, columns=['Feature 1', 'Feature 2'])\n",
    "df_moons['Target'] = y_moons"
   ]
  },
  {
   "cell_type": "code",
   "execution_count": 22,
   "metadata": {},
   "outputs": [
    {
     "data": {
      "text/plain": [
       "<matplotlib.axes._subplots.AxesSubplot at 0x1a45ad6590>"
      ]
     },
     "execution_count": 22,
     "metadata": {},
     "output_type": "execute_result"
    },
    {
     "data": {
      "image/png": "[encoded data removed]",
      "text/plain": [
       "<Figure size 432x288 with 2 Axes>"
      ]
     },
     "metadata": {
      "needs_background": "light"
     },
     "output_type": "display_data"
    }
   ],
   "source": [
    "# plot dummy data\n",
    "df_moons.plot.scatter(x='Feature 1', y='Feature 2', c='Target', colormap='winter')"
   ]
  },
  {
   "cell_type": "code",
   "execution_count": 23,
   "metadata": {},
   "outputs": [
    {
     "data": {
      "text/plain": [
       "StandardScaler(copy=True, with_mean=True, with_std=True)"
      ]
     },
     "execution_count": 23,
     "metadata": {},
     "output_type": "execute_result"
    }
   ],
   "source": [
    "# split data into training/testing sets\n",
    "X_moon_train, X_moon_test, y_moon_train, y_moon_test = train_test_split(X_moons, y_moons, random_state=78)\n",
    "\n",
    "# create scaler instance\n",
    "X_moon_scaler = skl.preprocessing.StandardScaler()\n",
    "\n",
    "# fit the scaler\n",
    "X_moon_scaler.fit(X_moon_train)"
   ]
  },
  {
   "cell_type": "code",
   "execution_count": 24,
   "metadata": {},
   "outputs": [],
   "source": [
    "# scale the data\n",
    "X_moon_train_scaled = X_moon_scaler.transform(X_moon_train)\n",
    "X_moon_test_scaled = X_moon_scaler.transform(X_moon_test)"
   ]
  },
  {
   "cell_type": "code",
   "execution_count": 25,
   "metadata": {},
   "outputs": [
    {
     "name": "stdout",
     "output_type": "stream",
     "text": [
      "Train on 750 samples\n",
      "Epoch 1/100\n",
      "750/750 [==============================] - 0s 142us/sample - loss: 1.5159 - accuracy: 0.3187\n",
      "Epoch 2/100\n",
      "750/750 [==============================] - 0s 57us/sample - loss: 1.3143 - accuracy: 0.3440\n",
      "Epoch 3/100\n",
      "750/750 [==============================] - 0s 52us/sample - loss: 1.1845 - accuracy: 0.3667\n",
      "Epoch 4/100\n",
      "750/750 [==============================] - 0s 60us/sample - loss: 1.0939 - accuracy: 0.3907\n",
      "Epoch 5/100\n",
      "750/750 [==============================] - 0s 56us/sample - loss: 1.0275 - accuracy: 0.4107\n",
      "Epoch 6/100\n",
      "750/750 [==============================] - 0s 59us/sample - loss: 0.9750 - accuracy: 0.4293\n",
      "Epoch 7/100\n",
      "750/750 [==============================] - 0s 58us/sample - loss: 0.9300 - accuracy: 0.4413\n",
      "Epoch 8/100\n",
      "750/750 [==============================] - 0s 56us/sample - loss: 0.8900 - accuracy: 0.4560\n",
      "Epoch 9/100\n",
      "750/750 [==============================] - 0s 57us/sample - loss: 0.8562 - accuracy: 0.4667\n",
      "Epoch 10/100\n",
      "750/750 [==============================] - 0s 55us/sample - loss: 0.8262 - accuracy: 0.4773\n",
      "Epoch 11/100\n",
      "750/750 [==============================] - 0s 64us/sample - loss: 0.7992 - accuracy: 0.4987\n",
      "Epoch 12/100\n",
      "750/750 [==============================] - 0s 65us/sample - loss: 0.7745 - accuracy: 0.5227\n",
      "Epoch 13/100\n",
      "750/750 [==============================] - 0s 56us/sample - loss: 0.7514 - accuracy: 0.5453\n",
      "Epoch 14/100\n",
      "750/750 [==============================] - 0s 56us/sample - loss: 0.7309 - accuracy: 0.5547\n",
      "Epoch 15/100\n",
      "750/750 [==============================] - 0s 54us/sample - loss: 0.7119 - accuracy: 0.5613\n",
      "Epoch 16/100\n",
      "750/750 [==============================] - 0s 57us/sample - loss: 0.6941 - accuracy: 0.5773\n",
      "Epoch 17/100\n",
      "750/750 [==============================] - 0s 52us/sample - loss: 0.6772 - accuracy: 0.5880\n",
      "Epoch 18/100\n",
      "750/750 [==============================] - 0s 57us/sample - loss: 0.6617 - accuracy: 0.6013\n",
      "Epoch 19/100\n",
      "750/750 [==============================] - 0s 53us/sample - loss: 0.6476 - accuracy: 0.6200\n",
      "Epoch 20/100\n",
      "750/750 [==============================] - 0s 58us/sample - loss: 0.6342 - accuracy: 0.6280\n",
      "Epoch 21/100\n",
      "750/750 [==============================] - 0s 55us/sample - loss: 0.6216 - accuracy: 0.6387\n",
      "Epoch 22/100\n",
      "750/750 [==============================] - 0s 57us/sample - loss: 0.6096 - accuracy: 0.6413\n",
      "Epoch 23/100\n",
      "750/750 [==============================] - 0s 62us/sample - loss: 0.5986 - accuracy: 0.6453\n",
      "Epoch 24/100\n",
      "750/750 [==============================] - 0s 53us/sample - loss: 0.5881 - accuracy: 0.6520\n",
      "Epoch 25/100\n",
      "750/750 [==============================] - 0s 58us/sample - loss: 0.5786 - accuracy: 0.6587\n",
      "Epoch 26/100\n",
      "750/750 [==============================] - 0s 53us/sample - loss: 0.5695 - accuracy: 0.6653\n",
      "Epoch 27/100\n",
      "750/750 [==============================] - 0s 55us/sample - loss: 0.5611 - accuracy: 0.6720\n",
      "Epoch 28/100\n",
      "750/750 [==============================] - 0s 62us/sample - loss: 0.5531 - accuracy: 0.6827\n",
      "Epoch 29/100\n",
      "750/750 [==============================] - 0s 58us/sample - loss: 0.5459 - accuracy: 0.6920\n",
      "Epoch 30/100\n",
      "750/750 [==============================] - 0s 58us/sample - loss: 0.5389 - accuracy: 0.6973\n",
      "Epoch 31/100\n",
      "750/750 [==============================] - 0s 57us/sample - loss: 0.5321 - accuracy: 0.7013\n",
      "Epoch 32/100\n",
      "750/750 [==============================] - 0s 55us/sample - loss: 0.5257 - accuracy: 0.7080\n",
      "Epoch 33/100\n",
      "750/750 [==============================] - 0s 58us/sample - loss: 0.5196 - accuracy: 0.7080\n",
      "Epoch 34/100\n",
      "750/750 [==============================] - 0s 60us/sample - loss: 0.5135 - accuracy: 0.7133\n",
      "Epoch 35/100\n",
      "750/750 [==============================] - 0s 60us/sample - loss: 0.5080 - accuracy: 0.7173\n",
      "Epoch 36/100\n",
      "750/750 [==============================] - 0s 60us/sample - loss: 0.5025 - accuracy: 0.7227\n",
      "Epoch 37/100\n",
      "750/750 [==============================] - 0s 57us/sample - loss: 0.4971 - accuracy: 0.7320\n",
      "Epoch 38/100\n",
      "750/750 [==============================] - 0s 57us/sample - loss: 0.4918 - accuracy: 0.7400\n",
      "Epoch 39/100\n",
      "750/750 [==============================] - 0s 67us/sample - loss: 0.4866 - accuracy: 0.7413\n",
      "Epoch 40/100\n",
      "750/750 [==============================] - 0s 82us/sample - loss: 0.4816 - accuracy: 0.7453\n",
      "Epoch 41/100\n",
      "750/750 [==============================] - 0s 81us/sample - loss: 0.4766 - accuracy: 0.7493\n",
      "Epoch 42/100\n",
      "750/750 [==============================] - 0s 60us/sample - loss: 0.4720 - accuracy: 0.7533\n",
      "Epoch 43/100\n",
      "750/750 [==============================] - 0s 56us/sample - loss: 0.4676 - accuracy: 0.7600\n",
      "Epoch 44/100\n",
      "750/750 [==============================] - 0s 62us/sample - loss: 0.4635 - accuracy: 0.7600\n",
      "Epoch 45/100\n",
      "750/750 [==============================] - 0s 79us/sample - loss: 0.4594 - accuracy: 0.7627\n",
      "Epoch 46/100\n",
      "750/750 [==============================] - 0s 89us/sample - loss: 0.4555 - accuracy: 0.7627\n",
      "Epoch 47/100\n",
      "750/750 [==============================] - 0s 89us/sample - loss: 0.4515 - accuracy: 0.7667\n",
      "Epoch 48/100\n",
      "750/750 [==============================] - 0s 65us/sample - loss: 0.4476 - accuracy: 0.7720\n",
      "Epoch 49/100\n",
      "750/750 [==============================] - 0s 62us/sample - loss: 0.4438 - accuracy: 0.7733\n",
      "Epoch 50/100\n",
      "750/750 [==============================] - 0s 60us/sample - loss: 0.4402 - accuracy: 0.7787\n",
      "Epoch 51/100\n",
      "750/750 [==============================] - 0s 60us/sample - loss: 0.4365 - accuracy: 0.7867\n",
      "Epoch 52/100\n",
      "750/750 [==============================] - 0s 53us/sample - loss: 0.4327 - accuracy: 0.7867\n",
      "Epoch 53/100\n",
      "750/750 [==============================] - 0s 57us/sample - loss: 0.4288 - accuracy: 0.7893\n",
      "Epoch 54/100\n",
      "750/750 [==============================] - 0s 65us/sample - loss: 0.4251 - accuracy: 0.7907\n",
      "Epoch 55/100\n",
      "750/750 [==============================] - 0s 80us/sample - loss: 0.4215 - accuracy: 0.7920\n",
      "Epoch 56/100\n",
      "750/750 [==============================] - 0s 94us/sample - loss: 0.4179 - accuracy: 0.7973\n",
      "Epoch 57/100\n",
      "750/750 [==============================] - 0s 87us/sample - loss: 0.4144 - accuracy: 0.8000\n",
      "Epoch 58/100\n",
      "750/750 [==============================] - 0s 80us/sample - loss: 0.4109 - accuracy: 0.8000\n",
      "Epoch 59/100\n",
      "750/750 [==============================] - 0s 66us/sample - loss: 0.4074 - accuracy: 0.8027\n",
      "Epoch 60/100\n",
      "750/750 [==============================] - 0s 70us/sample - loss: 0.4039 - accuracy: 0.8120\n",
      "Epoch 61/100\n",
      "750/750 [==============================] - 0s 79us/sample - loss: 0.4005 - accuracy: 0.8147\n",
      "Epoch 62/100\n",
      "750/750 [==============================] - 0s 77us/sample - loss: 0.3972 - accuracy: 0.8147\n",
      "Epoch 63/100\n",
      "750/750 [==============================] - 0s 82us/sample - loss: 0.3939 - accuracy: 0.8187\n",
      "Epoch 64/100\n",
      "750/750 [==============================] - 0s 73us/sample - loss: 0.3909 - accuracy: 0.8213\n",
      "Epoch 65/100\n",
      "750/750 [==============================] - 0s 78us/sample - loss: 0.3877 - accuracy: 0.8240\n",
      "Epoch 66/100\n",
      "750/750 [==============================] - 0s 78us/sample - loss: 0.3847 - accuracy: 0.8280\n",
      "Epoch 67/100\n",
      "750/750 [==============================] - 0s 72us/sample - loss: 0.3817 - accuracy: 0.8307\n",
      "Epoch 68/100\n",
      "750/750 [==============================] - 0s 54us/sample - loss: 0.3785 - accuracy: 0.8307\n",
      "Epoch 69/100\n",
      "750/750 [==============================] - 0s 56us/sample - loss: 0.3752 - accuracy: 0.8320\n",
      "Epoch 70/100\n",
      "750/750 [==============================] - 0s 60us/sample - loss: 0.3718 - accuracy: 0.8360\n",
      "Epoch 71/100\n",
      "750/750 [==============================] - 0s 64us/sample - loss: 0.3685 - accuracy: 0.8360\n",
      "Epoch 72/100\n",
      "750/750 [==============================] - 0s 77us/sample - loss: 0.3652 - accuracy: 0.8373\n",
      "Epoch 73/100\n",
      "750/750 [==============================] - 0s 64us/sample - loss: 0.3617 - accuracy: 0.8427\n",
      "Epoch 74/100\n",
      "750/750 [==============================] - 0s 61us/sample - loss: 0.3585 - accuracy: 0.8467\n",
      "Epoch 75/100\n",
      "750/750 [==============================] - 0s 72us/sample - loss: 0.3554 - accuracy: 0.8467\n",
      "Epoch 76/100\n",
      "750/750 [==============================] - 0s 67us/sample - loss: 0.3523 - accuracy: 0.8520\n",
      "Epoch 77/100\n",
      "750/750 [==============================] - 0s 59us/sample - loss: 0.3490 - accuracy: 0.8533\n",
      "Epoch 78/100\n"
     ]
    },
    {
     "name": "stdout",
     "output_type": "stream",
     "text": [
      "750/750 [==============================] - 0s 56us/sample - loss: 0.3458 - accuracy: 0.8533\n",
      "Epoch 79/100\n",
      "750/750 [==============================] - 0s 52us/sample - loss: 0.3427 - accuracy: 0.8573\n",
      "Epoch 80/100\n",
      "750/750 [==============================] - 0s 54us/sample - loss: 0.3394 - accuracy: 0.8627\n",
      "Epoch 81/100\n",
      "750/750 [==============================] - 0s 54us/sample - loss: 0.3362 - accuracy: 0.8627\n",
      "Epoch 82/100\n",
      "750/750 [==============================] - 0s 54us/sample - loss: 0.3329 - accuracy: 0.8640\n",
      "Epoch 83/100\n",
      "750/750 [==============================] - 0s 56us/sample - loss: 0.3298 - accuracy: 0.8680\n",
      "Epoch 84/100\n",
      "750/750 [==============================] - 0s 58us/sample - loss: 0.3269 - accuracy: 0.8693\n",
      "Epoch 85/100\n",
      "750/750 [==============================] - 0s 70us/sample - loss: 0.3240 - accuracy: 0.8707\n",
      "Epoch 86/100\n",
      "750/750 [==============================] - 0s 58us/sample - loss: 0.3214 - accuracy: 0.8720\n",
      "Epoch 87/100\n",
      "750/750 [==============================] - 0s 54us/sample - loss: 0.3188 - accuracy: 0.8747\n",
      "Epoch 88/100\n",
      "750/750 [==============================] - 0s 58us/sample - loss: 0.3164 - accuracy: 0.8747\n",
      "Epoch 89/100\n",
      "750/750 [==============================] - 0s 55us/sample - loss: 0.3139 - accuracy: 0.8747\n",
      "Epoch 90/100\n",
      "750/750 [==============================] - 0s 53us/sample - loss: 0.3116 - accuracy: 0.8747\n",
      "Epoch 91/100\n",
      "750/750 [==============================] - 0s 55us/sample - loss: 0.3094 - accuracy: 0.8760\n",
      "Epoch 92/100\n",
      "750/750 [==============================] - 0s 53us/sample - loss: 0.3071 - accuracy: 0.8760\n",
      "Epoch 93/100\n",
      "750/750 [==============================] - 0s 55us/sample - loss: 0.3051 - accuracy: 0.8773\n",
      "Epoch 94/100\n",
      "750/750 [==============================] - 0s 60us/sample - loss: 0.3031 - accuracy: 0.8813\n",
      "Epoch 95/100\n",
      "750/750 [==============================] - 0s 55us/sample - loss: 0.3013 - accuracy: 0.8840\n",
      "Epoch 96/100\n",
      "750/750 [==============================] - 0s 57us/sample - loss: 0.2997 - accuracy: 0.8867\n",
      "Epoch 97/100\n",
      "750/750 [==============================] - 0s 53us/sample - loss: 0.2983 - accuracy: 0.8893\n",
      "Epoch 98/100\n",
      "750/750 [==============================] - 0s 58us/sample - loss: 0.2969 - accuracy: 0.8907\n",
      "Epoch 99/100\n",
      "750/750 [==============================] - 0s 54us/sample - loss: 0.2956 - accuracy: 0.8907\n",
      "Epoch 100/100\n",
      "750/750 [==============================] - 0s 56us/sample - loss: 0.2944 - accuracy: 0.8920\n"
     ]
    }
   ],
   "source": [
    "# train model with nonlinear data\n",
    "model_moon = nn_model.fit(X_moon_train_scaled, y_moon_train, epochs=100, shuffle=True)"
   ]
  },
  {
   "cell_type": "code",
   "execution_count": 26,
   "metadata": {},
   "outputs": [],
   "source": [
    "# create a DataFrame containing training history\n",
    "history_df = pd.DataFrame(model_moon.history, index=range(1,len(model_moon.history['loss'])+1))"
   ]
  },
  {
   "cell_type": "code",
   "execution_count": 27,
   "metadata": {},
   "outputs": [
    {
     "data": {
      "text/plain": [
       "<matplotlib.axes._subplots.AxesSubplot at 0x1a45ca6850>"
      ]
     },
     "execution_count": 27,
     "metadata": {},
     "output_type": "execute_result"
    },
    {
     "data": {
      "image/png": "[encoded data removed]",
      "text/plain": [
       "<Figure size 432x288 with 1 Axes>"
      ]
     },
     "metadata": {
      "needs_background": "light"
     },
     "output_type": "display_data"
    }
   ],
   "source": [
    "# plot the loss\n",
    "history_df.plot(y='loss')"
   ]
  },
  {
   "cell_type": "code",
   "execution_count": 28,
   "metadata": {},
   "outputs": [
    {
     "data": {
      "text/plain": [
       "<matplotlib.axes._subplots.AxesSubplot at 0x1a45bd8ad0>"
      ]
     },
     "execution_count": 28,
     "metadata": {},
     "output_type": "execute_result"
    },
    {
     "data": {
      "image/png": "[encoded data removed]",
      "text/plain": [
       "<Figure size 432x288 with 1 Axes>"
      ]
     },
     "metadata": {
      "needs_background": "light"
     },
     "output_type": "display_data"
    }
   ],
   "source": [
    "# plot the accuracy\n",
    "history_df.plot(y='accuracy')"
   ]
  },
  {
   "cell_type": "markdown",
   "metadata": {},
   "source": [
    "## Part 3: Multi-Neuron Hidden Layer"
   ]
  },
  {
   "cell_type": "code",
   "execution_count": 29,
   "metadata": {},
   "outputs": [],
   "source": [
    "# generate new Sequential model\n",
    "new_model = tf.keras.models.Sequential()"
   ]
  },
  {
   "cell_type": "code",
   "execution_count": 30,
   "metadata": {},
   "outputs": [],
   "source": [
    "# add input and hidden layer\n",
    "num_inputs = 2\n",
    "num_hidden_nodes = 6\n",
    "\n",
    "new_model.add(tf.keras.layers.Dense(units=num_hidden_nodes, activation='relu', input_dim=num_inputs))"
   ]
  },
  {
   "cell_type": "code",
   "execution_count": 31,
   "metadata": {},
   "outputs": [],
   "source": [
    "# add output layer using probability activation function\n",
    "new_model.add(tf.keras.layers.Dense(units=1, activation='sigmoid'))"
   ]
  },
  {
   "cell_type": "code",
   "execution_count": 32,
   "metadata": {},
   "outputs": [
    {
     "name": "stdout",
     "output_type": "stream",
     "text": [
      "Train on 750 samples\n",
      "Epoch 1/100\n",
      "750/750 [==============================] - 1s 860us/sample - loss: 0.6520 - accuracy: 0.4533\n",
      "Epoch 2/100\n",
      "750/750 [==============================] - 0s 58us/sample - loss: 0.6243 - accuracy: 0.6107\n",
      "Epoch 3/100\n",
      "750/750 [==============================] - 0s 56us/sample - loss: 0.5999 - accuracy: 0.7493\n",
      "Epoch 4/100\n",
      "750/750 [==============================] - 0s 57us/sample - loss: 0.5785 - accuracy: 0.7627\n",
      "Epoch 5/100\n",
      "750/750 [==============================] - 0s 59us/sample - loss: 0.5591 - accuracy: 0.7733\n",
      "Epoch 6/100\n",
      "750/750 [==============================] - 0s 54us/sample - loss: 0.5409 - accuracy: 0.7827\n",
      "Epoch 7/100\n",
      "750/750 [==============================] - 0s 59us/sample - loss: 0.5231 - accuracy: 0.7880\n",
      "Epoch 8/100\n",
      "750/750 [==============================] - 0s 55us/sample - loss: 0.5059 - accuracy: 0.7947\n",
      "Epoch 9/100\n",
      "750/750 [==============================] - 0s 62us/sample - loss: 0.4888 - accuracy: 0.7987\n",
      "Epoch 10/100\n",
      "750/750 [==============================] - 0s 62us/sample - loss: 0.4722 - accuracy: 0.8027\n",
      "Epoch 11/100\n",
      "750/750 [==============================] - 0s 61us/sample - loss: 0.4555 - accuracy: 0.8080\n",
      "Epoch 12/100\n",
      "750/750 [==============================] - 0s 55us/sample - loss: 0.4395 - accuracy: 0.8120\n",
      "Epoch 13/100\n",
      "750/750 [==============================] - 0s 56us/sample - loss: 0.4240 - accuracy: 0.8160\n",
      "Epoch 14/100\n",
      "750/750 [==============================] - 0s 63us/sample - loss: 0.4092 - accuracy: 0.8213\n",
      "Epoch 15/100\n",
      "750/750 [==============================] - 0s 54us/sample - loss: 0.3956 - accuracy: 0.8253\n",
      "Epoch 16/100\n",
      "750/750 [==============================] - 0s 59us/sample - loss: 0.3829 - accuracy: 0.8293\n",
      "Epoch 17/100\n",
      "750/750 [==============================] - 0s 54us/sample - loss: 0.3712 - accuracy: 0.8333\n",
      "Epoch 18/100\n",
      "750/750 [==============================] - 0s 61us/sample - loss: 0.3602 - accuracy: 0.8373\n",
      "Epoch 19/100\n",
      "750/750 [==============================] - 0s 59us/sample - loss: 0.3504 - accuracy: 0.8413\n",
      "Epoch 20/100\n",
      "750/750 [==============================] - 0s 54us/sample - loss: 0.3413 - accuracy: 0.8453\n",
      "Epoch 21/100\n",
      "750/750 [==============================] - 0s 56us/sample - loss: 0.3327 - accuracy: 0.8507\n",
      "Epoch 22/100\n",
      "750/750 [==============================] - 0s 55us/sample - loss: 0.3247 - accuracy: 0.8507\n",
      "Epoch 23/100\n",
      "750/750 [==============================] - 0s 56us/sample - loss: 0.3175 - accuracy: 0.8520\n",
      "Epoch 24/100\n",
      "750/750 [==============================] - 0s 52us/sample - loss: 0.3107 - accuracy: 0.8587\n",
      "Epoch 25/100\n",
      "750/750 [==============================] - 0s 56us/sample - loss: 0.3045 - accuracy: 0.8640\n",
      "Epoch 26/100\n",
      "750/750 [==============================] - 0s 62us/sample - loss: 0.2989 - accuracy: 0.8693\n",
      "Epoch 27/100\n",
      "750/750 [==============================] - 0s 52us/sample - loss: 0.2936 - accuracy: 0.8760\n",
      "Epoch 28/100\n",
      "750/750 [==============================] - 0s 58us/sample - loss: 0.2888 - accuracy: 0.8800\n",
      "Epoch 29/100\n",
      "750/750 [==============================] - 0s 55us/sample - loss: 0.2844 - accuracy: 0.8827\n",
      "Epoch 30/100\n",
      "750/750 [==============================] - 0s 56us/sample - loss: 0.2803 - accuracy: 0.8827\n",
      "Epoch 31/100\n",
      "750/750 [==============================] - 0s 57us/sample - loss: 0.2765 - accuracy: 0.8853\n",
      "Epoch 32/100\n",
      "750/750 [==============================] - 0s 56us/sample - loss: 0.2730 - accuracy: 0.8853\n",
      "Epoch 33/100\n",
      "750/750 [==============================] - 0s 55us/sample - loss: 0.2697 - accuracy: 0.8867\n",
      "Epoch 34/100\n",
      "750/750 [==============================] - 0s 69us/sample - loss: 0.2667 - accuracy: 0.8880\n",
      "Epoch 35/100\n",
      "750/750 [==============================] - 0s 53us/sample - loss: 0.2639 - accuracy: 0.8893\n",
      "Epoch 36/100\n",
      "750/750 [==============================] - 0s 60us/sample - loss: 0.2613 - accuracy: 0.8893\n",
      "Epoch 37/100\n",
      "750/750 [==============================] - 0s 53us/sample - loss: 0.2589 - accuracy: 0.8920\n",
      "Epoch 38/100\n",
      "750/750 [==============================] - 0s 58us/sample - loss: 0.2567 - accuracy: 0.8920\n",
      "Epoch 39/100\n",
      "750/750 [==============================] - 0s 55us/sample - loss: 0.2546 - accuracy: 0.8907\n",
      "Epoch 40/100\n",
      "750/750 [==============================] - 0s 56us/sample - loss: 0.2527 - accuracy: 0.8933\n",
      "Epoch 41/100\n",
      "750/750 [==============================] - 0s 64us/sample - loss: 0.2507 - accuracy: 0.8920\n",
      "Epoch 42/100\n",
      "750/750 [==============================] - 0s 56us/sample - loss: 0.2489 - accuracy: 0.8947\n",
      "Epoch 43/100\n",
      "750/750 [==============================] - 0s 90us/sample - loss: 0.2472 - accuracy: 0.8947\n",
      "Epoch 44/100\n",
      "750/750 [==============================] - 0s 90us/sample - loss: 0.2457 - accuracy: 0.8947\n",
      "Epoch 45/100\n",
      "750/750 [==============================] - 0s 86us/sample - loss: 0.2441 - accuracy: 0.8947\n",
      "Epoch 46/100\n",
      "750/750 [==============================] - 0s 104us/sample - loss: 0.2426 - accuracy: 0.8973\n",
      "Epoch 47/100\n",
      "750/750 [==============================] - 0s 90us/sample - loss: 0.2413 - accuracy: 0.8973\n",
      "Epoch 48/100\n",
      "750/750 [==============================] - 0s 85us/sample - loss: 0.2400 - accuracy: 0.8987\n",
      "Epoch 49/100\n",
      "750/750 [==============================] - 0s 66us/sample - loss: 0.2386 - accuracy: 0.9013\n",
      "Epoch 50/100\n",
      "750/750 [==============================] - 0s 53us/sample - loss: 0.2375 - accuracy: 0.9013\n",
      "Epoch 51/100\n",
      "750/750 [==============================] - 0s 54us/sample - loss: 0.2363 - accuracy: 0.9013\n",
      "Epoch 52/100\n",
      "750/750 [==============================] - 0s 59us/sample - loss: 0.2351 - accuracy: 0.9013\n",
      "Epoch 53/100\n",
      "750/750 [==============================] - 0s 64us/sample - loss: 0.2339 - accuracy: 0.9013\n",
      "Epoch 54/100\n",
      "750/750 [==============================] - 0s 58us/sample - loss: 0.2328 - accuracy: 0.9013\n",
      "Epoch 55/100\n",
      "750/750 [==============================] - 0s 64us/sample - loss: 0.2317 - accuracy: 0.9013\n",
      "Epoch 56/100\n",
      "750/750 [==============================] - 0s 79us/sample - loss: 0.2306 - accuracy: 0.9027\n",
      "Epoch 57/100\n",
      "750/750 [==============================] - 0s 59us/sample - loss: 0.2294 - accuracy: 0.9013\n",
      "Epoch 58/100\n",
      "750/750 [==============================] - 0s 68us/sample - loss: 0.2283 - accuracy: 0.9027\n",
      "Epoch 59/100\n",
      "750/750 [==============================] - 0s 68us/sample - loss: 0.2272 - accuracy: 0.9027\n",
      "Epoch 60/100\n",
      "750/750 [==============================] - 0s 62us/sample - loss: 0.2260 - accuracy: 0.9053\n",
      "Epoch 61/100\n",
      "750/750 [==============================] - 0s 53us/sample - loss: 0.2249 - accuracy: 0.9053\n",
      "Epoch 62/100\n",
      "750/750 [==============================] - 0s 57us/sample - loss: 0.2237 - accuracy: 0.9040\n",
      "Epoch 63/100\n",
      "750/750 [==============================] - 0s 55us/sample - loss: 0.2226 - accuracy: 0.9067\n",
      "Epoch 64/100\n",
      "750/750 [==============================] - 0s 54us/sample - loss: 0.2214 - accuracy: 0.9067\n",
      "Epoch 65/100\n",
      "750/750 [==============================] - 0s 56us/sample - loss: 0.2203 - accuracy: 0.9067\n",
      "Epoch 66/100\n",
      "750/750 [==============================] - 0s 57us/sample - loss: 0.2192 - accuracy: 0.9080\n",
      "Epoch 67/100\n",
      "750/750 [==============================] - 0s 70us/sample - loss: 0.2180 - accuracy: 0.9080\n",
      "Epoch 68/100\n",
      "750/750 [==============================] - 0s 67us/sample - loss: 0.2170 - accuracy: 0.9080\n",
      "Epoch 69/100\n",
      "750/750 [==============================] - 0s 76us/sample - loss: 0.2160 - accuracy: 0.9080\n",
      "Epoch 70/100\n",
      "750/750 [==============================] - 0s 79us/sample - loss: 0.2147 - accuracy: 0.9080\n",
      "Epoch 71/100\n",
      "750/750 [==============================] - 0s 64us/sample - loss: 0.2135 - accuracy: 0.9080\n",
      "Epoch 72/100\n",
      "750/750 [==============================] - 0s 54us/sample - loss: 0.2124 - accuracy: 0.9080\n",
      "Epoch 73/100\n",
      "750/750 [==============================] - 0s 56us/sample - loss: 0.2111 - accuracy: 0.9093\n",
      "Epoch 74/100\n",
      "750/750 [==============================] - 0s 62us/sample - loss: 0.2100 - accuracy: 0.9093\n",
      "Epoch 75/100\n",
      "750/750 [==============================] - 0s 58us/sample - loss: 0.2088 - accuracy: 0.9120\n",
      "Epoch 76/100\n",
      "750/750 [==============================] - 0s 52us/sample - loss: 0.2077 - accuracy: 0.9120\n",
      "Epoch 77/100\n",
      "750/750 [==============================] - 0s 57us/sample - loss: 0.2065 - accuracy: 0.9120\n",
      "Epoch 78/100\n"
     ]
    },
    {
     "name": "stdout",
     "output_type": "stream",
     "text": [
      "750/750 [==============================] - 0s 54us/sample - loss: 0.2052 - accuracy: 0.9133\n",
      "Epoch 79/100\n",
      "750/750 [==============================] - 0s 57us/sample - loss: 0.2040 - accuracy: 0.9147\n",
      "Epoch 80/100\n",
      "750/750 [==============================] - 0s 54us/sample - loss: 0.2028 - accuracy: 0.9147\n",
      "Epoch 81/100\n",
      "750/750 [==============================] - 0s 56us/sample - loss: 0.2016 - accuracy: 0.9147\n",
      "Epoch 82/100\n",
      "750/750 [==============================] - 0s 52us/sample - loss: 0.2004 - accuracy: 0.9147\n",
      "Epoch 83/100\n",
      "750/750 [==============================] - 0s 55us/sample - loss: 0.1990 - accuracy: 0.9147\n",
      "Epoch 84/100\n",
      "750/750 [==============================] - 0s 52us/sample - loss: 0.1979 - accuracy: 0.9147\n",
      "Epoch 85/100\n",
      "750/750 [==============================] - 0s 58us/sample - loss: 0.1964 - accuracy: 0.9147\n",
      "Epoch 86/100\n",
      "750/750 [==============================] - 0s 53us/sample - loss: 0.1952 - accuracy: 0.9147\n",
      "Epoch 87/100\n",
      "750/750 [==============================] - 0s 56us/sample - loss: 0.1938 - accuracy: 0.9173\n",
      "Epoch 88/100\n",
      "750/750 [==============================] - 0s 55us/sample - loss: 0.1925 - accuracy: 0.9173\n",
      "Epoch 89/100\n",
      "750/750 [==============================] - 0s 56us/sample - loss: 0.1914 - accuracy: 0.9173\n",
      "Epoch 90/100\n",
      "750/750 [==============================] - 0s 55us/sample - loss: 0.1900 - accuracy: 0.9187\n",
      "Epoch 91/100\n",
      "750/750 [==============================] - 0s 52us/sample - loss: 0.1889 - accuracy: 0.9173\n",
      "Epoch 92/100\n",
      "750/750 [==============================] - 0s 51us/sample - loss: 0.1874 - accuracy: 0.9187\n",
      "Epoch 93/100\n",
      "750/750 [==============================] - 0s 54us/sample - loss: 0.1862 - accuracy: 0.9187\n",
      "Epoch 94/100\n",
      "750/750 [==============================] - 0s 55us/sample - loss: 0.1848 - accuracy: 0.9187\n",
      "Epoch 95/100\n",
      "750/750 [==============================] - 0s 54us/sample - loss: 0.1835 - accuracy: 0.9187\n",
      "Epoch 96/100\n",
      "750/750 [==============================] - 0s 52us/sample - loss: 0.1823 - accuracy: 0.9187\n",
      "Epoch 97/100\n",
      "750/750 [==============================] - 0s 52us/sample - loss: 0.1809 - accuracy: 0.9187\n",
      "Epoch 98/100\n",
      "750/750 [==============================] - 0s 62us/sample - loss: 0.1796 - accuracy: 0.9187\n",
      "Epoch 99/100\n",
      "750/750 [==============================] - 0s 55us/sample - loss: 0.1783 - accuracy: 0.9187\n",
      "Epoch 100/100\n",
      "750/750 [==============================] - 0s 53us/sample - loss: 0.1770 - accuracy: 0.9187\n"
     ]
    }
   ],
   "source": [
    "# compile the Sequential model and customize metrics\n",
    "new_model.compile(loss='binary_crossentropy', optimizer='adam', metrics=['accuracy'])\n",
    "\n",
    "# fit the model to training data\n",
    "new_fit_model = new_model.fit(X_moon_train_scaled, y_moon_train, epochs=100, shuffle=True)"
   ]
  },
  {
   "cell_type": "code",
   "execution_count": null,
   "metadata": {},
   "outputs": [],
   "source": []
  }
 ],
 "metadata": {
  "kernelspec": {
   "display_name": "mlenv",
   "language": "python",
   "name": "mlenv"
  },
  "language_info": {
   "codemirror_mode": {
    "name": "ipython",
    "version": 3
   },
   "file_extension": ".py",
   "mimetype": "text/x-python",
   "name": "python",
   "nbconvert_exporter": "python",
   "pygments_lexer": "ipython3",
   "version": "3.7.6"
  }
 },
 "nbformat": 4,
 "nbformat_minor": 4
}
